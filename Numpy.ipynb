{
 "cells": [
  {
   "cell_type": "code",
   "execution_count": 2,
   "metadata": {},
   "outputs": [],
   "source": [
    "import numpy as np\n",
    "from time import process_time"
   ]
  },
  {
   "cell_type": "code",
   "execution_count": 3,
   "metadata": {},
   "outputs": [
    {
     "name": "stdout",
     "output_type": "stream",
     "text": [
      "0.421875\n"
     ]
    }
   ],
   "source": [
    "a = [i for i in range(10000000)]\n",
    "start_time = process_time()\n",
    "b = [i+4 for i in a]\n",
    "end_time = process_time()\n",
    "\n",
    "print( end_time - start_time)"
   ]
  },
  {
   "cell_type": "code",
   "execution_count": 4,
   "metadata": {},
   "outputs": [
    {
     "name": "stdout",
     "output_type": "stream",
     "text": [
      "0.0\n"
     ]
    }
   ],
   "source": [
    "np_array = np.array([i for i in range(10000000)])\n",
    "\n",
    "st = process_time()\n",
    "np_array += 4\n",
    "end = process_time()\n",
    "print(end-st)"
   ]
  },
  {
   "cell_type": "markdown",
   "metadata": {},
   "source": [
    "***Numpy*** \n"
   ]
  },
  {
   "cell_type": "code",
   "execution_count": 11,
   "metadata": {},
   "outputs": [
    {
     "name": "stdout",
     "output_type": "stream",
     "text": [
      "<class 'list'> \n",
      "\n",
      "<class 'numpy.ndarray'>\n"
     ]
    }
   ],
   "source": [
    "list = [1,3,4,5]\n",
    "print(type(list),\"\\n\")\n",
    "\n",
    "np_array = np.array(list)\n",
    "print(type(np_array))\n"
   ]
  },
  {
   "cell_type": "markdown",
   "metadata": {},
   "source": [
    "***Dimension of array***"
   ]
  },
  {
   "cell_type": "code",
   "execution_count": 22,
   "metadata": {},
   "outputs": [
    {
     "name": "stdout",
     "output_type": "stream",
     "text": [
      "0\n"
     ]
    },
    {
     "data": {
      "text/plain": [
       "()"
      ]
     },
     "execution_count": 22,
     "metadata": {},
     "output_type": "execute_result"
    }
   ],
   "source": [
    "d1_arr = np.array(1)\n",
    "print(np.ndim(d1_arr))\n",
    "d1_arr.shape"
   ]
  },
  {
   "cell_type": "code",
   "execution_count": 19,
   "metadata": {},
   "outputs": [
    {
     "name": "stdout",
     "output_type": "stream",
     "text": [
      "1\n"
     ]
    },
    {
     "data": {
      "text/plain": [
       "(2,)"
      ]
     },
     "execution_count": 19,
     "metadata": {},
     "output_type": "execute_result"
    }
   ],
   "source": [
    "d2_arr = np.array([11,23])\n",
    "print(np.ndim(d2_arr))\n",
    "d2_arr.shape"
   ]
  },
  {
   "cell_type": "code",
   "execution_count": 25,
   "metadata": {},
   "outputs": [
    {
     "name": "stdout",
     "output_type": "stream",
     "text": [
      "2\n"
     ]
    },
    {
     "data": {
      "text/plain": [
       "(2, 3)"
      ]
     },
     "execution_count": 25,
     "metadata": {},
     "output_type": "execute_result"
    }
   ],
   "source": [
    "d3_arr = np.array([[1,2,3],[1,3,4]]) #inner elements should be in same length\n",
    "print(np.ndim(d3_arr))\n",
    "d3_arr.shape"
   ]
  },
  {
   "cell_type": "code",
   "execution_count": 26,
   "metadata": {},
   "outputs": [
    {
     "name": "stdout",
     "output_type": "stream",
     "text": [
      "3\n"
     ]
    },
    {
     "data": {
      "text/plain": [
       "(2, 2, 3)"
      ]
     },
     "execution_count": 26,
     "metadata": {},
     "output_type": "execute_result"
    }
   ],
   "source": [
    "d4_arr = np.array([[[1,3,4],[1,3,4]],[[2,3,5],[4,3,5]]])\n",
    "print(np.ndim(d4_arr))\n",
    "d4_arr.shape"
   ]
  },
  {
   "cell_type": "code",
   "execution_count": 33,
   "metadata": {},
   "outputs": [
    {
     "name": "stdout",
     "output_type": "stream",
     "text": [
      "[0. 1. 2. 3. 4. 5. 6. 7. 8. 9.]\n",
      "dimension :  1\n",
      "[[0. 1. 2. 3. 4.]\n",
      " [5. 6. 7. 8. 9.]]\n",
      "dimension :  2\n"
     ]
    }
   ],
   "source": [
    "#reshape the array\n",
    "list = np.array([i for i in range(10)],dtype=float) #dtype helps to mention data type\n",
    "print(list)\n",
    "print(\"dimension : \",np.ndim(list))\n",
    "list_2d = list.reshape(2,-1)\n",
    "print(list_2d)\n",
    "print(\"dimension : \",np.ndim(list_2d))"
   ]
  },
  {
   "cell_type": "markdown",
   "metadata": {},
   "source": [
    "***Initial Placeholders***"
   ]
  },
  {
   "cell_type": "code",
   "execution_count": 35,
   "metadata": {},
   "outputs": [
    {
     "name": "stdout",
     "output_type": "stream",
     "text": [
      "[[1 1]\n",
      " [1 1]\n",
      " [1 1]\n",
      " [1 1]]\n"
     ]
    }
   ],
   "source": [
    "x = np.ones((4,2),dtype=int) #all element as 1\n",
    "print(x)"
   ]
  },
  {
   "cell_type": "code",
   "execution_count": 38,
   "metadata": {},
   "outputs": [
    {
     "name": "stdout",
     "output_type": "stream",
     "text": [
      "[[0 0 0]\n",
      " [0 0 0]\n",
      " [0 0 0]]\n"
     ]
    }
   ],
   "source": [
    "x = np.zeros((3,3),dtype=int) #all element as 0\n",
    "print(x)"
   ]
  },
  {
   "cell_type": "code",
   "execution_count": 40,
   "metadata": {},
   "outputs": [
    {
     "name": "stdout",
     "output_type": "stream",
     "text": [
      "[[19 19 19 19 19 19]\n",
      " [19 19 19 19 19 19]\n",
      " [19 19 19 19 19 19]\n",
      " [19 19 19 19 19 19]\n",
      " [19 19 19 19 19 19]]\n"
     ]
    }
   ],
   "source": [
    "x = np.full((5,6),19,dtype=int) #all element as specific value\n",
    "print(x)"
   ]
  },
  {
   "cell_type": "code",
   "execution_count": 43,
   "metadata": {},
   "outputs": [
    {
     "name": "stdout",
     "output_type": "stream",
     "text": [
      "[[1 0 0 0 0 0]\n",
      " [0 1 0 0 0 0]\n",
      " [0 0 1 0 0 0]\n",
      " [0 0 0 1 0 0]\n",
      " [0 0 0 0 1 0]\n",
      " [0 0 0 0 0 1]]\n"
     ]
    }
   ],
   "source": [
    "x = np.eye(6,dtype=int) #creating identy matrix where 6 is number of columns and rows\n",
    "print(x)"
   ]
  },
  {
   "cell_type": "markdown",
   "metadata": {},
   "source": [
    "***Creation with random values***"
   ]
  },
  {
   "cell_type": "code",
   "execution_count": 44,
   "metadata": {},
   "outputs": [
    {
     "name": "stdout",
     "output_type": "stream",
     "text": [
      "[[0.76706698 0.78548608 0.74525449 0.76649909]\n",
      " [0.41041717 0.81912679 0.32101261 0.29384415]]\n"
     ]
    }
   ],
   "source": [
    "x = np.random.random((2,4)) # creation with random values with shape 2,4\n",
    "print(x)"
   ]
  },
  {
   "cell_type": "code",
   "execution_count": 45,
   "metadata": {},
   "outputs": [
    {
     "name": "stdout",
     "output_type": "stream",
     "text": [
      "[[109 110 112]\n",
      " [116 104 100]\n",
      " [119 106 111]]\n"
     ]
    }
   ],
   "source": [
    "#creation with random values b/w the range 100 to 120 with shape 3,3\n",
    "x = np.random.randint(100,120,(3,3)) \n",
    "print(x)"
   ]
  },
  {
   "cell_type": "code",
   "execution_count": 53,
   "metadata": {},
   "outputs": [
    {
     "name": "stdout",
     "output_type": "stream",
     "text": [
      "[10 16 22 28 34 40]\n"
     ]
    }
   ],
   "source": [
    "#creation with evenly spaced elements\n",
    "x = np.linspace(10,40,6,dtype=int) # 10 ,40 is range & 6 is no. of elem\n",
    "print(x)"
   ]
  },
  {
   "cell_type": "code",
   "execution_count": 58,
   "metadata": {},
   "outputs": [
    {
     "name": "stdout",
     "output_type": "stream",
     "text": [
      "Steps with 2 :  [10 12 14 16 18 20 22 24 26 28]\n",
      "Steps with 5 :  [10 15 20 25]\n"
     ]
    }
   ],
   "source": [
    "#creation with evenly spaces with steps \n",
    "x = np.arange(10,30,2)\n",
    "y = np.arange(10,30,5)\n",
    "print(\"Steps with 2 : \",x)\n",
    "print(\"Steps with 5 : \",y)"
   ]
  },
  {
   "cell_type": "markdown",
   "metadata": {},
   "source": [
    "*** Conversion of list & tuple to ndarray ***"
   ]
  },
  {
   "cell_type": "code",
   "execution_count": 60,
   "metadata": {},
   "outputs": [
    {
     "name": "stdout",
     "output_type": "stream",
     "text": [
      "Normal List :  <class 'list'>\n",
      "ndarray :  <class 'numpy.ndarray'>\n"
     ]
    }
   ],
   "source": [
    "l = [1,3,5,6]\n",
    "print(\"Normal List : \",type(l))\n",
    "\n",
    "\n",
    "nd_arr = np.asarray(l) #converting list to nd array\n",
    "print(\"ndarray : \",type(nd_arr))"
   ]
  },
  {
   "cell_type": "code",
   "execution_count": 62,
   "metadata": {},
   "outputs": [
    {
     "name": "stdout",
     "output_type": "stream",
     "text": [
      "Normal Tuple :  <class 'tuple'>\n",
      "ndarray :  <class 'numpy.ndarray'>\n"
     ]
    }
   ],
   "source": [
    "l = (1,3,5,6)\n",
    "print(\"Normal Tuple : \",type(l))\n",
    "\n",
    "\n",
    "nd_arr = np.asarray(l) #converting tuple to nd array\n",
    "print(\"ndarray : \",type(nd_arr))"
   ]
  },
  {
   "cell_type": "markdown",
   "metadata": {},
   "source": [
    "***Analysis a np array***"
   ]
  },
  {
   "cell_type": "code",
   "execution_count": 71,
   "metadata": {},
   "outputs": [
    {
     "name": "stdout",
     "output_type": "stream",
     "text": [
      "[[87 65 86]\n",
      " [18 34 87]\n",
      " [24 40 48]]\n"
     ]
    }
   ],
   "source": [
    "c = np.random.randint(10,100,(3,3))\n",
    "print(c)"
   ]
  },
  {
   "cell_type": "code",
   "execution_count": 72,
   "metadata": {},
   "outputs": [
    {
     "name": "stdout",
     "output_type": "stream",
     "text": [
      "(3, 3)\n"
     ]
    }
   ],
   "source": [
    "#shape of the array \n",
    "print(c.shape)"
   ]
  },
  {
   "cell_type": "code",
   "execution_count": 73,
   "metadata": {},
   "outputs": [
    {
     "name": "stdout",
     "output_type": "stream",
     "text": [
      "2\n",
      "2\n"
     ]
    }
   ],
   "source": [
    "#no. of dimention that array have\n",
    "print(np.ndim(c))\n",
    "#     OR\n",
    "print(c.ndim)"
   ]
  },
  {
   "cell_type": "code",
   "execution_count": 74,
   "metadata": {},
   "outputs": [
    {
     "name": "stdout",
     "output_type": "stream",
     "text": [
      "9\n"
     ]
    }
   ],
   "source": [
    "# counting of no. of elements in an array\n",
    "print(c.size)"
   ]
  },
  {
   "cell_type": "code",
   "execution_count": 75,
   "metadata": {},
   "outputs": [
    {
     "name": "stdout",
     "output_type": "stream",
     "text": [
      "int32\n"
     ]
    }
   ],
   "source": [
    " #finding the data type\n",
    "print(c.dtype)"
   ]
  },
  {
   "cell_type": "markdown",
   "metadata": {},
   "source": [
    "***Mathematical Operations***"
   ]
  },
  {
   "cell_type": "code",
   "execution_count": 77,
   "metadata": {},
   "outputs": [
    {
     "name": "stdout",
     "output_type": "stream",
     "text": [
      "[1, 3, 4, 1, 2, 4]\n"
     ]
    }
   ],
   "source": [
    "#contcatenation will happen will add two normal list\n",
    "l1 = [1,3,4]\n",
    "l2 = [1,2,4]\n",
    "print(l1 + l2)"
   ]
  },
  {
   "cell_type": "code",
   "execution_count": 78,
   "metadata": {},
   "outputs": [
    {
     "name": "stdout",
     "output_type": "stream",
     "text": [
      "[2 5 8]\n"
     ]
    }
   ],
   "source": [
    "# for Np array it will sum 2 list by using + operator\n",
    "l1 = np.array([1,3,4])\n",
    "l2 = np.array([1,2,4])\n",
    "print(l1 + l2)"
   ]
  },
  {
   "cell_type": "code",
   "execution_count": 81,
   "metadata": {},
   "outputs": [
    {
     "name": "stdout",
     "output_type": "stream",
     "text": [
      "[2 5 8]\n",
      "[0 1 0]\n",
      "[ 1  6 16]\n",
      "[1.  1.5 1. ]\n"
     ]
    }
   ],
   "source": [
    "#all other math operations\n",
    "print(l1 + l2)\n",
    "print(l1 - l2)\n",
    "print(l1 * l2)\n",
    "print(l1 / l2)"
   ]
  },
  {
   "cell_type": "code",
   "execution_count": 83,
   "metadata": {},
   "outputs": [
    {
     "name": "stdout",
     "output_type": "stream",
     "text": [
      "[2 5 8]\n",
      "[0 1 0]\n",
      "[ 1  6 16]\n",
      "[1.  1.5 1. ]\n"
     ]
    }
   ],
   "source": [
    "# using functions\n",
    "print(np.add(l1,l2))\n",
    "print(np.subtract(l1,l2))\n",
    "print(np.multiply(l1,l2))\n",
    "print(np.divide(l1,l2))"
   ]
  },
  {
   "cell_type": "markdown",
   "metadata": {},
   "source": [
    "***array manipulation***"
   ]
  },
  {
   "cell_type": "code",
   "execution_count": 84,
   "metadata": {},
   "outputs": [
    {
     "name": "stdout",
     "output_type": "stream",
     "text": [
      "[[63 46 21 23]\n",
      " [64 88 44 99]]\n"
     ]
    },
    {
     "data": {
      "text/plain": [
       "(2, 4)"
      ]
     },
     "execution_count": 84,
     "metadata": {},
     "output_type": "execute_result"
    }
   ],
   "source": [
    "a = np.random.randint(10,100,(2,4))\n",
    "print(a)\n",
    "a.shape"
   ]
  },
  {
   "cell_type": "code",
   "execution_count": 85,
   "metadata": {},
   "outputs": [
    {
     "name": "stdout",
     "output_type": "stream",
     "text": [
      "[[63 64]\n",
      " [46 88]\n",
      " [21 44]\n",
      " [23 99]]\n"
     ]
    },
    {
     "data": {
      "text/plain": [
       "(4, 2)"
      ]
     },
     "execution_count": 85,
     "metadata": {},
     "output_type": "execute_result"
    }
   ],
   "source": [
    "#tranpose of array \n",
    "trans = np.transpose(a)\n",
    "print(trans)\n",
    "trans.shape"
   ]
  },
  {
   "cell_type": "code",
   "execution_count": 91,
   "metadata": {},
   "outputs": [
    {
     "name": "stdout",
     "output_type": "stream",
     "text": [
      "[[4 7 8 7]\n",
      " [7 4 2 9]]\n",
      "(2, 4)\n",
      "Transpose : \n",
      " [[4 7]\n",
      " [7 4]\n",
      " [8 2]\n",
      " [7 9]]\n",
      "(4, 2)\n"
     ]
    }
   ],
   "source": [
    "a = np.random.randint(2,10,(2,4))\n",
    "print(a)\n",
    "print(a.shape)\n",
    "trans = a.T\n",
    "print(\"Transpose : \\n\",trans)\n",
    "print(trans.shape)"
   ]
  },
  {
   "cell_type": "code",
   "execution_count": null,
   "metadata": {},
   "outputs": [],
   "source": []
  }
 ],
 "metadata": {
  "kernelspec": {
   "display_name": "Python 3",
   "language": "python",
   "name": "python3"
  },
  "language_info": {
   "codemirror_mode": {
    "name": "ipython",
    "version": 3
   },
   "file_extension": ".py",
   "mimetype": "text/x-python",
   "name": "python",
   "nbconvert_exporter": "python",
   "pygments_lexer": "ipython3",
   "version": "3.12.3"
  }
 },
 "nbformat": 4,
 "nbformat_minor": 2
}
